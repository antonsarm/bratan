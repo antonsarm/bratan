{
  "nbformat": 4,
  "nbformat_minor": 0,
  "metadata": {
    "colab": {
      "provenance": [],
      "authorship_tag": "ABX9TyPexLCImI87AB0x0uuIoZAo",
      "include_colab_link": true
    },
    "kernelspec": {
      "name": "python3",
      "display_name": "Python 3"
    },
    "language_info": {
      "name": "python"
    }
  },
  "cells": [
    {
      "cell_type": "markdown",
      "metadata": {
        "id": "view-in-github",
        "colab_type": "text"
      },
      "source": [
        "<a href=\"https://colab.research.google.com/github/antonsarm/bratan/blob/main/%D0%9F%D1%80%D0%B0%D0%BA%D1%82%D0%B8%D0%BA%D0%B0_%D0%9D%D0%B5%D0%B4%D0%B5%D0%BB5_%D0%A1%D0%B0%D1%80%D0%BC%D0%B0%D0%BA%D0%BE%D0%B2%D0%90%D0%A1.ipynb\" target=\"_parent\"><img src=\"https://colab.research.google.com/assets/colab-badge.svg\" alt=\"Open In Colab\"/></a>"
      ]
    },
    {
      "cell_type": "code",
      "execution_count": null,
      "metadata": {
        "colab": {
          "base_uri": "https://localhost:8080/"
        },
        "id": "_2PEvoUsNLyH",
        "outputId": "a7ef1608-817b-4424-bc92-6468371816bf"
      },
      "outputs": [
        {
          "name": "stdout",
          "output_type": "stream",
          "text": [
            "3\n"
          ]
        }
      ],
      "source": [
        "el_sum=0\n",
        "a=int(input())\n",
        "while a!= 0:\n",
        "   el_sum += a\n",
        "   el_kol += 1\n",
        "   a=int(input())\n",
        "if a > 2 and a < 5:\n",
        "  a=int(input())\n",
        "print (el_sum/el_kol)\n",
        "print(a)\n",
        "\n"
      ]
    },
    {
      "cell_type": "code",
      "source": [
        "sum=0\n",
        "kolvo=0\n",
        "who\\ile True:\n",
        "chislo=int(input())\n",
        "    if chislo==0:\n",
        "      break\n",
        "      if chislo>2 and chislo <5:\n",
        "        kolvo+=1\n",
        "        sum+=chislo\n",
        "        else:\n",
        "          print(\"\")\n",
        "          print(sum/kolvo)\n"
      ],
      "metadata": {
        "id": "qqLsDVY5XSjb"
      },
      "execution_count": null,
      "outputs": []
    }
  ]
}