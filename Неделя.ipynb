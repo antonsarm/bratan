{
  "nbformat": 4,
  "nbformat_minor": 0,
  "metadata": {
    "colab": {
      "provenance": [],
      "authorship_tag": "ABX9TyNTe5+AW17gifsn/GDYYkIz",
      "include_colab_link": true
    },
    "kernelspec": {
      "name": "python3",
      "display_name": "Python 3"
    },
    "language_info": {
      "name": "python"
    }
  },
  "cells": [
    {
      "cell_type": "markdown",
      "metadata": {
        "id": "view-in-github",
        "colab_type": "text"
      },
      "source": [
        "<a href=\"https://colab.research.google.com/github/antonsarm/bratan/blob/main/%D0%9D%D0%B5%D0%B4%D0%B5%D0%BB%D1%8F.ipynb\" target=\"_parent\"><img src=\"https://colab.research.google.com/assets/colab-badge.svg\" alt=\"Open In Colab\"/></a>"
      ]
    },
    {
      "cell_type": "code",
      "execution_count": 12,
      "metadata": {
        "colab": {
          "base_uri": "https://localhost:8080/"
        },
        "id": "37aMQEcHTA5k",
        "outputId": "b582fb10-9f0a-4376-b4bf-6f0651d39c72"
      },
      "outputs": [
        {
          "output_type": "stream",
          "name": "stdout",
          "text": [
            "Введите число 12\n",
            "Введите число 32\n",
            "Введите число 43\n",
            "Введите число 54\n",
            "Введите число 65\n",
            "Введите число 76\n",
            "Введите число 0\n",
            "Сумма введенных чисел: 282\n"
          ]
        }
      ],
      "source": [
        "def sum_numbers():\n",
        "    total = 0\n",
        "    while (number := int(input(\"Введите число \"))) != 0:\n",
        "        total += number\n",
        "    print(f\"Сумма введенных чисел: {total}\")\n",
        "sum_numbers()"
      ]
    },
    {
      "cell_type": "code",
      "source": [],
      "metadata": {
        "id": "47-c9dn1U3qt"
      },
      "execution_count": 10,
      "outputs": []
    }
  ]
}