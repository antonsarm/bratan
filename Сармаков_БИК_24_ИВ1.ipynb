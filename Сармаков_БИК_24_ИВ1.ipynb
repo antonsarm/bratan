{
  "nbformat": 4,
  "nbformat_minor": 0,
  "metadata": {
    "colab": {
      "provenance": [],
      "authorship_tag": "ABX9TyMUp6XPkuXa6MKdNoIIff2h",
      "include_colab_link": true
    },
    "kernelspec": {
      "name": "python3",
      "display_name": "Python 3"
    },
    "language_info": {
      "name": "python"
    }
  },
  "cells": [
    {
      "cell_type": "markdown",
      "metadata": {
        "id": "view-in-github",
        "colab_type": "text"
      },
      "source": [
        "<a href=\"https://colab.research.google.com/github/antonsarm/bratan/blob/main/%D0%A1%D0%B0%D1%80%D0%BC%D0%B0%D0%BA%D0%BE%D0%B2_%D0%91%D0%98%D0%9A_24_%D0%98%D0%921.ipynb\" target=\"_parent\"><img src=\"https://colab.research.google.com/assets/colab-badge.svg\" alt=\"Open In Colab\"/></a>"
      ]
    },
    {
      "cell_type": "code",
      "execution_count": 9,
      "metadata": {
        "colab": {
          "base_uri": "https://localhost:8080/"
        },
        "id": "hYDibth2mvB5",
        "outputId": "6934a1ea-f402-4be7-9b9f-8bd855a1fc5d"
      },
      "outputs": [
        {
          "output_type": "stream",
          "name": "stdout",
          "text": [
            "13\n"
          ]
        }
      ],
      "source": [
        "\n",
        "a = 11\n",
        "b = 2\n",
        "c =  a + b\n",
        "print(c)"
      ]
    },
    {
      "cell_type": "code",
      "source": [
        "a = 43243\n",
        "b = 43431\n",
        "c = 5454\n",
        "d = 6565\n",
        "y = (a*b)*(c*d)\n",
        "print (y)"
      ],
      "metadata": {
        "colab": {
          "base_uri": "https://localhost:8080/"
        },
        "id": "du5rYxEruGYZ",
        "outputId": "24b6767e-d40a-4023-936f-abb15ac5a790"
      },
      "execution_count": 13,
      "outputs": [
        {
          "output_type": "stream",
          "name": "stdout",
          "text": [
            "67245853299298830\n"
          ]
        }
      ]
    },
    {
      "cell_type": "markdown",
      "source": [],
      "metadata": {
        "id": "FdxW4Fyqm8WG"
      }
    }
  ]
}