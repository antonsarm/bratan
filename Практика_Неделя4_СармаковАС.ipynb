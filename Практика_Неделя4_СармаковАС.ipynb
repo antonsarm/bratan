{
  "nbformat": 4,
  "nbformat_minor": 0,
  "metadata": {
    "colab": {
      "provenance": [],
      "authorship_tag": "ABX9TyM8saUkUzRQgblzARrxkLaU",
      "include_colab_link": true
    },
    "kernelspec": {
      "name": "python3",
      "display_name": "Python 3"
    },
    "language_info": {
      "name": "python"
    }
  },
  "cells": [
    {
      "cell_type": "markdown",
      "metadata": {
        "id": "view-in-github",
        "colab_type": "text"
      },
      "source": [
        "<a href=\"https://colab.research.google.com/github/antonsarm/bratan/blob/main/%D0%9F%D1%80%D0%B0%D0%BA%D1%82%D0%B8%D0%BA%D0%B0_%D0%9D%D0%B5%D0%B4%D0%B5%D0%BB%D1%8F4_%D0%A1%D0%B0%D1%80%D0%BC%D0%B0%D0%BA%D0%BE%D0%B2%D0%90%D0%A1.ipynb\" target=\"_parent\"><img src=\"https://colab.research.google.com/assets/colab-badge.svg\" alt=\"Open In Colab\"/></a>"
      ]
    },
    {
      "cell_type": "markdown",
      "source": [
        "ex 1"
      ],
      "metadata": {
        "id": "TSeXNX4QmGh5"
      }
    },
    {
      "cell_type": "code",
      "execution_count": null,
      "metadata": {
        "id": "Njn458w7KMFN"
      },
      "outputs": [],
      "source": [
        "error input()\n",
        "match eroor:\n",
        "  case '400':\n",
        "    print('400 - Bad Request')\n",
        "  case '401':\n",
        "    print('401 - Unathorized')\n",
        "  case '404':\n",
        "    print('404 - Not Found')\n",
        "  case '405':\n",
        "    print('405 - метод HTTP')\n"
      ]
    },
    {
      "cell_type": "markdown",
      "source": [
        "ex 2"
      ],
      "metadata": {
        "id": "jYIYv5ZimFry"
      }
    },
    {
      "cell_type": "code",
      "source": [
        "x= int(input())\n",
        "y= int(input())\n",
        "if x > 0 and y > 0:\n",
        "  print('Точка лежит в 1 четверти')\n",
        "elif x > 0 and y < 0:\n",
        "  print('Точка лежит в 2 четверти')\n",
        "elif  x < 0 and y < 0:\n",
        "  print('Точка лежит в 3 четверти')\n",
        "elif x > 0 and y < 0:\n",
        "  print('Точка лежит в 4 четверти')\n"
      ],
      "metadata": {
        "id": "YMkSSWyMMmX_"
      },
      "execution_count": null,
      "outputs": []
    },
    {
      "cell_type": "markdown",
      "source": [
        "ex 3"
      ],
      "metadata": {
        "id": "8yPajoKkmEzm"
      }
    },
    {
      "cell_type": "code",
      "source": [
        "year = int(input(\"Введите год: \\n\"))\n",
        "\n",
        "def leap_year(year):\n",
        "  print(str(year)[-2:])\n",
        "  if year % 4 == 0 and str(year)[-2:] != '00':\n",
        "    return True\n",
        "  else:\n",
        "    return False\n",
        "\n",
        "print(leap_year(year))"
      ],
      "metadata": {
        "id": "eH4q70MJl_xd"
      },
      "execution_count": null,
      "outputs": []
    },
    {
      "cell_type": "markdown",
      "source": [
        "ex 4"
      ],
      "metadata": {
        "id": "1XIKKMkomBUZ"
      }
    },
    {
      "cell_type": "code",
      "source": [
        "a = int(input())\n",
        "if(a % 4 ==0) or (a % 100 == 0 and a %400 ==0):\n",
        " print ('Да')\n",
        "else:\n",
        " print ('Нет')"
      ],
      "metadata": {
        "colab": {
          "base_uri": "https://localhost:8080/"
        },
        "id": "O8tY0FhVP2y2",
        "outputId": "68d0af71-be5c-4f1c-be57-7ccea302474d"
      },
      "execution_count": null,
      "outputs": [
        {
          "output_type": "stream",
          "name": "stdout",
          "text": [
            "1900\n",
            "Да\n"
          ]
        }
      ]
    }
  ]
}