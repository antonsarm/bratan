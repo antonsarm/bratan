{
  "nbformat": 4,
  "nbformat_minor": 0,
  "metadata": {
    "colab": {
      "provenance": [],
      "authorship_tag": "ABX9TyOmW7PTjoE186Pfle6oecLH",
      "include_colab_link": true
    },
    "kernelspec": {
      "name": "python3",
      "display_name": "Python 3"
    },
    "language_info": {
      "name": "python"
    }
  },
  "cells": [
    {
      "cell_type": "markdown",
      "metadata": {
        "id": "view-in-github",
        "colab_type": "text"
      },
      "source": [
        "<a href=\"https://colab.research.google.com/github/antonsarm/bratan/blob/main/%D0%9F%D1%80%D0%B0%D0%BA%D1%82%D0%B8%D0%BA%D0%B0_%D0%9D%D0%B5%D0%B4%D0%B5%D0%BB%D1%8F4_%D0%A1%D0%B0%D1%80%D0%BC%D0%B0%D0%BA%D0%BE%D0%B2%D0%90%D0%A1.ipynb\" target=\"_parent\"><img src=\"https://colab.research.google.com/assets/colab-badge.svg\" alt=\"Open In Colab\"/></a>"
      ]
    },
    {
      "cell_type": "code",
      "execution_count": 9,
      "metadata": {
        "id": "Njn458w7KMFN"
      },
      "outputs": [],
      "source": [
        "error input()\n",
        "match eroor:\n",
        "  case '400':\n",
        "    print('400 - Bad Request')\n",
        "  case '401':\n",
        "    print('401 - Unathorized')\n",
        "  case '404':\n",
        "    print('404 - Not Found')\n",
        "  case '405':\n",
        "    print('405 - метод HTTP')\n"
      ]
    },
    {
      "cell_type": "code",
      "source": [
        "x= int(input())\n",
        "y= int(input())\n",
        "if x > 0 and y > 0:\n",
        "  print('Точка лежит в 1 четверти')\n",
        "elif x > 0 and y < 0:\n",
        "  print('Точка лежит в 2 четверти')\n",
        "elif  x < 0 and y < 0:\n",
        "  print('Точка лежит в 3 четверти')\n",
        "elif x > 0 and y < 0:\n",
        "  print('Точка лежит в 4 четверти')\n",
        ""
      ],
      "metadata": {
        "colab": {
          "base_uri": "https://localhost:8080/"
        },
        "id": "YMkSSWyMMmX_",
        "outputId": "6a245d01-aae1-4927-8481-4a05847f6e56"
      },
      "execution_count": 19,
      "outputs": [
        {
          "output_type": "stream",
          "name": "stdout",
          "text": [
            "4\n",
            "-3\n",
            "Точка лежит в 2 четверти\n"
          ]
        }
      ]
    },
    {
      "cell_type": "code",
      "source": [
        "a = int(input())\n",
        "if(a % 4 ==0) or (a % 100 == 0 and a %400 ==0):\n",
        " print ('Да')\n",
        "else:\n",
        " print ('Нет')"
      ],
      "metadata": {
        "colab": {
          "base_uri": "https://localhost:8080/"
        },
        "id": "O8tY0FhVP2y2",
        "outputId": "68d0af71-be5c-4f1c-be57-7ccea302474d"
      },
      "execution_count": 25,
      "outputs": [
        {
          "output_type": "stream",
          "name": "stdout",
          "text": [
            "1900\n",
            "Да\n"
          ]
        }
      ]
    }
  ]
}