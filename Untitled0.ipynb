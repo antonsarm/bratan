{
  "nbformat": 4,
  "nbformat_minor": 0,
  "metadata": {
    "colab": {
      "provenance": [],
      "authorship_tag": "ABX9TyMMlHguhYCj0BWWbCyJipuq",
      "include_colab_link": true
    },
    "kernelspec": {
      "name": "python3",
      "display_name": "Python 3"
    },
    "language_info": {
      "name": "python"
    }
  },
  "cells": [
    {
      "cell_type": "markdown",
      "metadata": {
        "id": "view-in-github",
        "colab_type": "text"
      },
      "source": [
        "<a href=\"https://colab.research.google.com/github/antonsarm/bratan/blob/main/Untitled0.ipynb\" target=\"_parent\"><img src=\"https://colab.research.google.com/assets/colab-badge.svg\" alt=\"Open In Colab\"/></a>"
      ]
    },
    {
      "cell_type": "code",
      "execution_count": 5,
      "metadata": {
        "colab": {
          "base_uri": "https://localhost:8080/"
        },
        "id": "BdltBNGrEH-x",
        "outputId": "684c375d-8017-4677-b462-b0f444f5f157"
      },
      "outputs": [
        {
          "output_type": "stream",
          "name": "stdout",
          "text": [
            "Список чисел: [1, 2, 3, 4, 5, 6, 7, 8, 9, 10]\n",
            "Квадраты чисел: [1, 4, 9, 16, 25, 36, 49, 64, 81, 100]\n",
            "Кубы чисел: [1, 8, 27, 64, 125, 216, 343, 512, 729, 1000]\n"
          ]
        }
      ],
      "source": [
        "numbers = list(range(1, 11))\n",
        "b = [num**2 for num in numbers]\n",
        "c = [num**3 for num in numbers]\n",
        "print(\"Список чисел:\", numbers)\n",
        "print(\"Квадраты чисел:\", b)\n",
        "print(\"Кубы чисел:\", c)"
      ]
    },
    {
      "cell_type": "code",
      "source": [
        "i = []\n",
        "a=1\n",
        "while a!=0:\n",
        "  a=int(input())\n",
        "  i.append(a)\n",
        "print\n"
      ],
      "metadata": {
        "id": "BToSw3qZHDbR"
      },
      "execution_count": null,
      "outputs": []
    },
    {
      "cell_type": "code",
      "source": [],
      "metadata": {
        "id": "prs3SPMIKzrH"
      },
      "execution_count": 25,
      "outputs": []
    }
  ]
}