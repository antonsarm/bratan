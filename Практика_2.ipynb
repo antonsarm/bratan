{
  "nbformat": 4,
  "nbformat_minor": 0,
  "metadata": {
    "colab": {
      "provenance": [],
      "authorship_tag": "ABX9TyPTqAeAtHo/YfhoKklZIRrB",
      "include_colab_link": true
    },
    "kernelspec": {
      "name": "python3",
      "display_name": "Python 3"
    },
    "language_info": {
      "name": "python"
    }
  },
  "cells": [
    {
      "cell_type": "markdown",
      "metadata": {
        "id": "view-in-github",
        "colab_type": "text"
      },
      "source": [
        "<a href=\"https://colab.research.google.com/github/antonsarm/bratan/blob/main/%D0%9F%D1%80%D0%B0%D0%BA%D1%82%D0%B8%D0%BA%D0%B0_2.ipynb\" target=\"_parent\"><img src=\"https://colab.research.google.com/assets/colab-badge.svg\" alt=\"Open In Colab\"/></a>"
      ]
    },
    {
      "cell_type": "code",
      "execution_count": 12,
      "metadata": {
        "colab": {
          "base_uri": "https://localhost:8080/"
        },
        "id": "SZ5kd48VEz0-",
        "outputId": "5923e011-5a3e-49bc-aca3-95485a06bc42"
      },
      "outputs": [
        {
          "output_type": "stream",
          "name": "stdout",
          "text": [
            "12.0\n"
          ]
        }
      ],
      "source": [
        "a = 4\n",
        "b = 6\n",
        "c = 0.5*a*b\n",
        "print (c)\n"
      ]
    },
    {
      "cell_type": "code",
      "source": [
        "a = 123\n",
        "b =a//100\n",
        "c = (a//10)%10\n",
        "d = a%10\n",
        "print (b)\n",
        "print(c)\n",
        "print(d)"
      ],
      "metadata": {
        "colab": {
          "base_uri": "https://localhost:8080/"
        },
        "id": "Ai0g1y3HGKMI",
        "outputId": "50c7b3c6-f348-4a8a-a120-0cc0d875f288"
      },
      "execution_count": 31,
      "outputs": [
        {
          "output_type": "stream",
          "name": "stdout",
          "text": [
            "1\n",
            "2\n",
            "3\n"
          ]
        }
      ]
    },
    {
      "cell_type": "code",
      "source": [
        "a = 7200\n",
        "b = a//3600\n",
        "c = b%60\n",
        "d = c%60\n",
        "\n",
        "print (f'Сейчас {b}:{c}:{d} времени')\n"
      ],
      "metadata": {
        "colab": {
          "base_uri": "https://localhost:8080/"
        },
        "id": "UYcBeOXwItWM",
        "outputId": "cb1d4dee-4e53-4b9f-a4cf-a803658457f3"
      },
      "execution_count": 51,
      "outputs": [
        {
          "output_type": "stream",
          "name": "stdout",
          "text": [
            "Сейчас 2:2:2 времени\n"
          ]
        }
      ]
    },
    {
      "cell_type": "code",
      "source": [],
      "metadata": {
        "id": "iwbDkzqpLb59"
      },
      "execution_count": null,
      "outputs": []
    }
  ]
}