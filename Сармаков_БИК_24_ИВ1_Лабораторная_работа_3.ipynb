{
  "nbformat": 4,
  "nbformat_minor": 0,
  "metadata": {
    "colab": {
      "provenance": [],
      "authorship_tag": "ABX9TyOOfD+niWSRiR++4uQZWz4F",
      "include_colab_link": true
    },
    "kernelspec": {
      "name": "python3",
      "display_name": "Python 3"
    },
    "language_info": {
      "name": "python"
    }
  },
  "cells": [
    {
      "cell_type": "markdown",
      "metadata": {
        "id": "view-in-github",
        "colab_type": "text"
      },
      "source": [
        "<a href=\"https://colab.research.google.com/github/antonsarm/bratan/blob/main/%D0%A1%D0%B0%D1%80%D0%BC%D0%B0%D0%BA%D0%BE%D0%B2_%D0%91%D0%98%D0%9A_24_%D0%98%D0%921_%D0%9B%D0%B0%D0%B1%D0%BE%D1%80%D0%B0%D1%82%D0%BE%D1%80%D0%BD%D0%B0%D1%8F_%D1%80%D0%B0%D0%B1%D0%BE%D1%82%D0%B0_3.ipynb\" target=\"_parent\"><img src=\"https://colab.research.google.com/assets/colab-badge.svg\" alt=\"Open In Colab\"/></a>"
      ]
    },
    {
      "cell_type": "code",
      "execution_count": 19,
      "metadata": {
        "colab": {
          "base_uri": "https://localhost:8080/"
        },
        "id": "dj97hgpJHelY",
        "outputId": "9c45537f-d90b-4660-e739-c7bdfdcff1f8"
      },
      "outputs": [
        {
          "output_type": "stream",
          "name": "stdout",
          "text": [
            "12323,3424324,4324321\n",
            "5 7 7 7\n"
          ]
        }
      ],
      "source": [
        "a = input()\n",
        "s = a.split(',')\n",
        "print(len(s[0]),len(s[1]),len(s[-2]),len(s[-1]))"
      ]
    },
    {
      "cell_type": "code",
      "source": [
        "a = 'erkerkekr, erer3321, 4325, n 121214, 543543543'\n",
        "s = a.split('n')\n",
        "print(s)"
      ],
      "metadata": {
        "colab": {
          "base_uri": "https://localhost:8080/"
        },
        "id": "GCyHIVWdML5p",
        "outputId": "3ab8a953-78de-4e15-b706-c9164a7dd92a"
      },
      "execution_count": 18,
      "outputs": [
        {
          "output_type": "stream",
          "name": "stdout",
          "text": [
            "['erkerkekr, erer3321, 4325, 121214, 543543543']\n"
          ]
        }
      ]
    }
  ]
}